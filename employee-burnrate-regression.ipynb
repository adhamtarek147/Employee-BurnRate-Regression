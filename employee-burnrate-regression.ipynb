{
 "cells": [
  {
   "cell_type": "markdown",
   "id": "bb96a84b",
   "metadata": {
    "papermill": {
     "duration": 0.008118,
     "end_time": "2024-05-15T15:58:12.562112",
     "exception": false,
     "start_time": "2024-05-15T15:58:12.553994",
     "status": "completed"
    },
    "tags": []
   },
   "source": [
    "# Step1: Import Libraries"
   ]
  },
  {
   "cell_type": "code",
   "execution_count": 1,
   "id": "b841b5ac",
   "metadata": {
    "execution": {
     "iopub.execute_input": "2024-05-15T15:58:12.580103Z",
     "iopub.status.busy": "2024-05-15T15:58:12.579306Z",
     "iopub.status.idle": "2024-05-15T15:58:15.762703Z",
     "shell.execute_reply": "2024-05-15T15:58:15.761472Z"
    },
    "papermill": {
     "duration": 3.195558,
     "end_time": "2024-05-15T15:58:15.765495",
     "exception": false,
     "start_time": "2024-05-15T15:58:12.569937",
     "status": "completed"
    },
    "tags": []
   },
   "outputs": [],
   "source": [
    "import numpy as np\n",
    "import pandas as pd\n",
    "import matplotlib.pyplot as plt\n",
    "import seaborn as sns\n",
    "\n",
    "from sklearn.preprocessing import StandardScaler\n",
    "from sklearn.model_selection import train_test_split\n",
    "\n",
    "from sklearn.linear_model import LinearRegression\n",
    "from sklearn.tree import DecisionTreeRegressor\n",
    "from sklearn.ensemble import RandomForestRegressor, GradientBoostingRegressor\n",
    "from sklearn.neighbors import KNeighborsRegressor\n",
    "import xgboost as xgb\n",
    "\n",
    "from sklearn.metrics import mean_squared_error\n",
    "\n",
    "\n",
    "pd.set_option('display.float_format', '{:.1f}'.format)\n",
    "\n",
    "import warnings\n",
    "warnings.filterwarnings(\"ignore\")"
   ]
  },
  {
   "cell_type": "markdown",
   "id": "240449fc",
   "metadata": {
    "papermill": {
     "duration": 0.007284,
     "end_time": "2024-05-15T15:58:15.780530",
     "exception": false,
     "start_time": "2024-05-15T15:58:15.773246",
     "status": "completed"
    },
    "tags": []
   },
   "source": [
    "# Step2: Load Data"
   ]
  },
  {
   "cell_type": "code",
   "execution_count": 2,
   "id": "810ea3c4",
   "metadata": {
    "execution": {
     "iopub.execute_input": "2024-05-15T15:58:15.797807Z",
     "iopub.status.busy": "2024-05-15T15:58:15.797274Z",
     "iopub.status.idle": "2024-05-15T15:58:15.884896Z",
     "shell.execute_reply": "2024-05-15T15:58:15.883747Z"
    },
    "papermill": {
     "duration": 0.099963,
     "end_time": "2024-05-15T15:58:15.888101",
     "exception": false,
     "start_time": "2024-05-15T15:58:15.788138",
     "status": "completed"
    },
    "tags": []
   },
   "outputs": [],
   "source": [
    "df = pd.read_csv(\"/kaggle/input/employeeburnout1/EmployeeBurnout1.csv\")"
   ]
  },
  {
   "cell_type": "markdown",
   "id": "e1a30412",
   "metadata": {
    "papermill": {
     "duration": 0.00734,
     "end_time": "2024-05-15T15:58:15.903565",
     "exception": false,
     "start_time": "2024-05-15T15:58:15.896225",
     "status": "completed"
    },
    "tags": []
   },
   "source": [
    "# Step3: EDA"
   ]
  },
  {
   "cell_type": "code",
   "execution_count": 3,
   "id": "ff104918",
   "metadata": {
    "execution": {
     "iopub.execute_input": "2024-05-15T15:58:15.920655Z",
     "iopub.status.busy": "2024-05-15T15:58:15.920264Z",
     "iopub.status.idle": "2024-05-15T15:58:15.948026Z",
     "shell.execute_reply": "2024-05-15T15:58:15.946880Z"
    },
    "papermill": {
     "duration": 0.039229,
     "end_time": "2024-05-15T15:58:15.950418",
     "exception": false,
     "start_time": "2024-05-15T15:58:15.911189",
     "status": "completed"
    },
    "tags": []
   },
   "outputs": [
    {
     "data": {
      "text/html": [
       "<div>\n",
       "<style scoped>\n",
       "    .dataframe tbody tr th:only-of-type {\n",
       "        vertical-align: middle;\n",
       "    }\n",
       "\n",
       "    .dataframe tbody tr th {\n",
       "        vertical-align: top;\n",
       "    }\n",
       "\n",
       "    .dataframe thead th {\n",
       "        text-align: right;\n",
       "    }\n",
       "</style>\n",
       "<table border=\"1\" class=\"dataframe\">\n",
       "  <thead>\n",
       "    <tr style=\"text-align: right;\">\n",
       "      <th></th>\n",
       "      <th>Employee ID</th>\n",
       "      <th>Date of Joining</th>\n",
       "      <th>Gender</th>\n",
       "      <th>Company Type</th>\n",
       "      <th>WFH Setup Available</th>\n",
       "      <th>Designation</th>\n",
       "      <th>Resource Allocation</th>\n",
       "      <th>Mental Fatigue Score</th>\n",
       "      <th>Burn Rate</th>\n",
       "    </tr>\n",
       "  </thead>\n",
       "  <tbody>\n",
       "    <tr>\n",
       "      <th>0</th>\n",
       "      <td>fffe32003000360033003200</td>\n",
       "      <td>9/30/2008</td>\n",
       "      <td>Female</td>\n",
       "      <td>Service</td>\n",
       "      <td>No</td>\n",
       "      <td>2</td>\n",
       "      <td>3.0</td>\n",
       "      <td>3.8</td>\n",
       "      <td>0.2</td>\n",
       "    </tr>\n",
       "    <tr>\n",
       "      <th>1</th>\n",
       "      <td>fffe3700360033003500</td>\n",
       "      <td>11/30/2008</td>\n",
       "      <td>Male</td>\n",
       "      <td>Service</td>\n",
       "      <td>Yes</td>\n",
       "      <td>1</td>\n",
       "      <td>2.0</td>\n",
       "      <td>5.0</td>\n",
       "      <td>0.4</td>\n",
       "    </tr>\n",
       "    <tr>\n",
       "      <th>2</th>\n",
       "      <td>fffe31003300320037003900</td>\n",
       "      <td>3/10/2008</td>\n",
       "      <td>Female</td>\n",
       "      <td>Product</td>\n",
       "      <td>Yes</td>\n",
       "      <td>2</td>\n",
       "      <td>NaN</td>\n",
       "      <td>5.8</td>\n",
       "      <td>0.5</td>\n",
       "    </tr>\n",
       "    <tr>\n",
       "      <th>3</th>\n",
       "      <td>fffe32003400380032003900</td>\n",
       "      <td>11/3/2008</td>\n",
       "      <td>Male</td>\n",
       "      <td>Service</td>\n",
       "      <td>Yes</td>\n",
       "      <td>1</td>\n",
       "      <td>1.0</td>\n",
       "      <td>2.6</td>\n",
       "      <td>0.2</td>\n",
       "    </tr>\n",
       "    <tr>\n",
       "      <th>4</th>\n",
       "      <td>fffe31003900340031003600</td>\n",
       "      <td>7/24/2008</td>\n",
       "      <td>Female</td>\n",
       "      <td>Service</td>\n",
       "      <td>No</td>\n",
       "      <td>3</td>\n",
       "      <td>7.0</td>\n",
       "      <td>6.9</td>\n",
       "      <td>0.5</td>\n",
       "    </tr>\n",
       "    <tr>\n",
       "      <th>5</th>\n",
       "      <td>fffe3300350037003500</td>\n",
       "      <td>11/26/2008</td>\n",
       "      <td>Male</td>\n",
       "      <td>Product</td>\n",
       "      <td>Yes</td>\n",
       "      <td>2</td>\n",
       "      <td>4.0</td>\n",
       "      <td>3.6</td>\n",
       "      <td>0.3</td>\n",
       "    </tr>\n",
       "    <tr>\n",
       "      <th>6</th>\n",
       "      <td>fffe33003300340039003100</td>\n",
       "      <td>1/2/2008</td>\n",
       "      <td>Female</td>\n",
       "      <td>Service</td>\n",
       "      <td>No</td>\n",
       "      <td>3</td>\n",
       "      <td>6.0</td>\n",
       "      <td>7.9</td>\n",
       "      <td>0.6</td>\n",
       "    </tr>\n",
       "    <tr>\n",
       "      <th>7</th>\n",
       "      <td>fffe32003600320037003400</td>\n",
       "      <td>10/31/2008</td>\n",
       "      <td>Female</td>\n",
       "      <td>Service</td>\n",
       "      <td>Yes</td>\n",
       "      <td>2</td>\n",
       "      <td>4.0</td>\n",
       "      <td>4.4</td>\n",
       "      <td>0.3</td>\n",
       "    </tr>\n",
       "    <tr>\n",
       "      <th>8</th>\n",
       "      <td>fffe32003200300034003700</td>\n",
       "      <td>12/27/2008</td>\n",
       "      <td>Female</td>\n",
       "      <td>Service</td>\n",
       "      <td>No</td>\n",
       "      <td>3</td>\n",
       "      <td>6.0</td>\n",
       "      <td>NaN</td>\n",
       "      <td>0.6</td>\n",
       "    </tr>\n",
       "    <tr>\n",
       "      <th>9</th>\n",
       "      <td>fffe31003600320030003200</td>\n",
       "      <td>3/9/2008</td>\n",
       "      <td>Female</td>\n",
       "      <td>Product</td>\n",
       "      <td>No</td>\n",
       "      <td>3</td>\n",
       "      <td>6.0</td>\n",
       "      <td>NaN</td>\n",
       "      <td>0.7</td>\n",
       "    </tr>\n",
       "  </tbody>\n",
       "</table>\n",
       "</div>"
      ],
      "text/plain": [
       "                Employee ID Date of Joining  Gender Company Type  \\\n",
       "0  fffe32003000360033003200       9/30/2008  Female      Service   \n",
       "1      fffe3700360033003500      11/30/2008    Male      Service   \n",
       "2  fffe31003300320037003900       3/10/2008  Female      Product   \n",
       "3  fffe32003400380032003900       11/3/2008    Male      Service   \n",
       "4  fffe31003900340031003600       7/24/2008  Female      Service   \n",
       "5      fffe3300350037003500      11/26/2008    Male      Product   \n",
       "6  fffe33003300340039003100        1/2/2008  Female      Service   \n",
       "7  fffe32003600320037003400      10/31/2008  Female      Service   \n",
       "8  fffe32003200300034003700      12/27/2008  Female      Service   \n",
       "9  fffe31003600320030003200        3/9/2008  Female      Product   \n",
       "\n",
       "  WFH Setup Available  Designation  Resource Allocation  Mental Fatigue Score  \\\n",
       "0                  No            2                  3.0                   3.8   \n",
       "1                 Yes            1                  2.0                   5.0   \n",
       "2                 Yes            2                  NaN                   5.8   \n",
       "3                 Yes            1                  1.0                   2.6   \n",
       "4                  No            3                  7.0                   6.9   \n",
       "5                 Yes            2                  4.0                   3.6   \n",
       "6                  No            3                  6.0                   7.9   \n",
       "7                 Yes            2                  4.0                   4.4   \n",
       "8                  No            3                  6.0                   NaN   \n",
       "9                  No            3                  6.0                   NaN   \n",
       "\n",
       "   Burn Rate  \n",
       "0        0.2  \n",
       "1        0.4  \n",
       "2        0.5  \n",
       "3        0.2  \n",
       "4        0.5  \n",
       "5        0.3  \n",
       "6        0.6  \n",
       "7        0.3  \n",
       "8        0.6  \n",
       "9        0.7  "
      ]
     },
     "execution_count": 3,
     "metadata": {},
     "output_type": "execute_result"
    }
   ],
   "source": [
    "#first 10 rows of the data\n",
    "df.head(10)"
   ]
  },
  {
   "cell_type": "code",
   "execution_count": 4,
   "id": "0c5a9fb3",
   "metadata": {
    "execution": {
     "iopub.execute_input": "2024-05-15T15:58:15.969918Z",
     "iopub.status.busy": "2024-05-15T15:58:15.969528Z",
     "iopub.status.idle": "2024-05-15T15:58:15.984104Z",
     "shell.execute_reply": "2024-05-15T15:58:15.982832Z"
    },
    "papermill": {
     "duration": 0.026531,
     "end_time": "2024-05-15T15:58:15.986520",
     "exception": false,
     "start_time": "2024-05-15T15:58:15.959989",
     "status": "completed"
    },
    "tags": []
   },
   "outputs": [
    {
     "data": {
      "text/html": [
       "<div>\n",
       "<style scoped>\n",
       "    .dataframe tbody tr th:only-of-type {\n",
       "        vertical-align: middle;\n",
       "    }\n",
       "\n",
       "    .dataframe tbody tr th {\n",
       "        vertical-align: top;\n",
       "    }\n",
       "\n",
       "    .dataframe thead th {\n",
       "        text-align: right;\n",
       "    }\n",
       "</style>\n",
       "<table border=\"1\" class=\"dataframe\">\n",
       "  <thead>\n",
       "    <tr style=\"text-align: right;\">\n",
       "      <th></th>\n",
       "      <th>Employee ID</th>\n",
       "      <th>Date of Joining</th>\n",
       "      <th>Gender</th>\n",
       "      <th>Company Type</th>\n",
       "      <th>WFH Setup Available</th>\n",
       "      <th>Designation</th>\n",
       "      <th>Resource Allocation</th>\n",
       "      <th>Mental Fatigue Score</th>\n",
       "      <th>Burn Rate</th>\n",
       "    </tr>\n",
       "  </thead>\n",
       "  <tbody>\n",
       "    <tr>\n",
       "      <th>0</th>\n",
       "      <td>fffe32003000360033003200</td>\n",
       "      <td>9/30/2008</td>\n",
       "      <td>Female</td>\n",
       "      <td>Service</td>\n",
       "      <td>No</td>\n",
       "      <td>2</td>\n",
       "      <td>3.0</td>\n",
       "      <td>3.8</td>\n",
       "      <td>0.2</td>\n",
       "    </tr>\n",
       "    <tr>\n",
       "      <th>1</th>\n",
       "      <td>fffe3700360033003500</td>\n",
       "      <td>11/30/2008</td>\n",
       "      <td>Male</td>\n",
       "      <td>Service</td>\n",
       "      <td>Yes</td>\n",
       "      <td>1</td>\n",
       "      <td>2.0</td>\n",
       "      <td>5.0</td>\n",
       "      <td>0.4</td>\n",
       "    </tr>\n",
       "    <tr>\n",
       "      <th>2</th>\n",
       "      <td>fffe31003300320037003900</td>\n",
       "      <td>3/10/2008</td>\n",
       "      <td>Female</td>\n",
       "      <td>Product</td>\n",
       "      <td>Yes</td>\n",
       "      <td>2</td>\n",
       "      <td>NaN</td>\n",
       "      <td>5.8</td>\n",
       "      <td>0.5</td>\n",
       "    </tr>\n",
       "    <tr>\n",
       "      <th>3</th>\n",
       "      <td>fffe32003400380032003900</td>\n",
       "      <td>11/3/2008</td>\n",
       "      <td>Male</td>\n",
       "      <td>Service</td>\n",
       "      <td>Yes</td>\n",
       "      <td>1</td>\n",
       "      <td>1.0</td>\n",
       "      <td>2.6</td>\n",
       "      <td>0.2</td>\n",
       "    </tr>\n",
       "    <tr>\n",
       "      <th>4</th>\n",
       "      <td>fffe31003900340031003600</td>\n",
       "      <td>7/24/2008</td>\n",
       "      <td>Female</td>\n",
       "      <td>Service</td>\n",
       "      <td>No</td>\n",
       "      <td>3</td>\n",
       "      <td>7.0</td>\n",
       "      <td>6.9</td>\n",
       "      <td>0.5</td>\n",
       "    </tr>\n",
       "  </tbody>\n",
       "</table>\n",
       "</div>"
      ],
      "text/plain": [
       "                Employee ID Date of Joining  Gender Company Type  \\\n",
       "0  fffe32003000360033003200       9/30/2008  Female      Service   \n",
       "1      fffe3700360033003500      11/30/2008    Male      Service   \n",
       "2  fffe31003300320037003900       3/10/2008  Female      Product   \n",
       "3  fffe32003400380032003900       11/3/2008    Male      Service   \n",
       "4  fffe31003900340031003600       7/24/2008  Female      Service   \n",
       "\n",
       "  WFH Setup Available  Designation  Resource Allocation  Mental Fatigue Score  \\\n",
       "0                  No            2                  3.0                   3.8   \n",
       "1                 Yes            1                  2.0                   5.0   \n",
       "2                 Yes            2                  NaN                   5.8   \n",
       "3                 Yes            1                  1.0                   2.6   \n",
       "4                  No            3                  7.0                   6.9   \n",
       "\n",
       "   Burn Rate  \n",
       "0        0.2  \n",
       "1        0.4  \n",
       "2        0.5  \n",
       "3        0.2  \n",
       "4        0.5  "
      ]
     },
     "execution_count": 4,
     "metadata": {},
     "output_type": "execute_result"
    }
   ],
   "source": [
    "df.head()"
   ]
  },
  {
   "cell_type": "code",
   "execution_count": 5,
   "id": "a48f3941",
   "metadata": {
    "execution": {
     "iopub.execute_input": "2024-05-15T15:58:16.005346Z",
     "iopub.status.busy": "2024-05-15T15:58:16.004925Z",
     "iopub.status.idle": "2024-05-15T15:58:16.011763Z",
     "shell.execute_reply": "2024-05-15T15:58:16.010667Z"
    },
    "papermill": {
     "duration": 0.019287,
     "end_time": "2024-05-15T15:58:16.014107",
     "exception": false,
     "start_time": "2024-05-15T15:58:15.994820",
     "status": "completed"
    },
    "tags": []
   },
   "outputs": [
    {
     "data": {
      "text/plain": [
       "(22750, 9)"
      ]
     },
     "execution_count": 5,
     "metadata": {},
     "output_type": "execute_result"
    }
   ],
   "source": [
    "#shape of the data\n",
    "df.shape"
   ]
  },
  {
   "cell_type": "code",
   "execution_count": 6,
   "id": "2ad1cea1",
   "metadata": {
    "execution": {
     "iopub.execute_input": "2024-05-15T15:58:16.033299Z",
     "iopub.status.busy": "2024-05-15T15:58:16.032175Z",
     "iopub.status.idle": "2024-05-15T15:58:16.071619Z",
     "shell.execute_reply": "2024-05-15T15:58:16.070479Z"
    },
    "papermill": {
     "duration": 0.05199,
     "end_time": "2024-05-15T15:58:16.074571",
     "exception": false,
     "start_time": "2024-05-15T15:58:16.022581",
     "status": "completed"
    },
    "tags": []
   },
   "outputs": [
    {
     "name": "stdout",
     "output_type": "stream",
     "text": [
      "<class 'pandas.core.frame.DataFrame'>\n",
      "RangeIndex: 22750 entries, 0 to 22749\n",
      "Data columns (total 9 columns):\n",
      " #   Column                Non-Null Count  Dtype  \n",
      "---  ------                --------------  -----  \n",
      " 0   Employee ID           22750 non-null  object \n",
      " 1   Date of Joining       22750 non-null  object \n",
      " 2   Gender                22750 non-null  object \n",
      " 3   Company Type          22750 non-null  object \n",
      " 4   WFH Setup Available   22750 non-null  object \n",
      " 5   Designation           22750 non-null  int64  \n",
      " 6   Resource Allocation   21369 non-null  float64\n",
      " 7   Mental Fatigue Score  20633 non-null  float64\n",
      " 8   Burn Rate             21626 non-null  float64\n",
      "dtypes: float64(3), int64(1), object(5)\n",
      "memory usage: 1.6+ MB\n"
     ]
    }
   ],
   "source": [
    "#overview information of the data\n",
    "df.info()"
   ]
  },
  {
   "cell_type": "code",
   "execution_count": 7,
   "id": "3d59bc70",
   "metadata": {
    "execution": {
     "iopub.execute_input": "2024-05-15T15:58:16.094715Z",
     "iopub.status.busy": "2024-05-15T15:58:16.094336Z",
     "iopub.status.idle": "2024-05-15T15:58:16.124237Z",
     "shell.execute_reply": "2024-05-15T15:58:16.123088Z"
    },
    "papermill": {
     "duration": 0.043427,
     "end_time": "2024-05-15T15:58:16.126723",
     "exception": false,
     "start_time": "2024-05-15T15:58:16.083296",
     "status": "completed"
    },
    "tags": []
   },
   "outputs": [
    {
     "data": {
      "text/html": [
       "<div>\n",
       "<style scoped>\n",
       "    .dataframe tbody tr th:only-of-type {\n",
       "        vertical-align: middle;\n",
       "    }\n",
       "\n",
       "    .dataframe tbody tr th {\n",
       "        vertical-align: top;\n",
       "    }\n",
       "\n",
       "    .dataframe thead th {\n",
       "        text-align: right;\n",
       "    }\n",
       "</style>\n",
       "<table border=\"1\" class=\"dataframe\">\n",
       "  <thead>\n",
       "    <tr style=\"text-align: right;\">\n",
       "      <th></th>\n",
       "      <th>Designation</th>\n",
       "      <th>Resource Allocation</th>\n",
       "      <th>Mental Fatigue Score</th>\n",
       "      <th>Burn Rate</th>\n",
       "    </tr>\n",
       "  </thead>\n",
       "  <tbody>\n",
       "    <tr>\n",
       "      <th>count</th>\n",
       "      <td>22750.0</td>\n",
       "      <td>21369.0</td>\n",
       "      <td>20633.0</td>\n",
       "      <td>21626.0</td>\n",
       "    </tr>\n",
       "    <tr>\n",
       "      <th>mean</th>\n",
       "      <td>2.2</td>\n",
       "      <td>4.5</td>\n",
       "      <td>5.7</td>\n",
       "      <td>0.5</td>\n",
       "    </tr>\n",
       "    <tr>\n",
       "      <th>std</th>\n",
       "      <td>1.1</td>\n",
       "      <td>2.0</td>\n",
       "      <td>1.9</td>\n",
       "      <td>0.2</td>\n",
       "    </tr>\n",
       "    <tr>\n",
       "      <th>min</th>\n",
       "      <td>0.0</td>\n",
       "      <td>1.0</td>\n",
       "      <td>0.0</td>\n",
       "      <td>0.0</td>\n",
       "    </tr>\n",
       "    <tr>\n",
       "      <th>25%</th>\n",
       "      <td>1.0</td>\n",
       "      <td>3.0</td>\n",
       "      <td>4.6</td>\n",
       "      <td>0.3</td>\n",
       "    </tr>\n",
       "    <tr>\n",
       "      <th>50%</th>\n",
       "      <td>2.0</td>\n",
       "      <td>4.0</td>\n",
       "      <td>5.9</td>\n",
       "      <td>0.5</td>\n",
       "    </tr>\n",
       "    <tr>\n",
       "      <th>75%</th>\n",
       "      <td>3.0</td>\n",
       "      <td>6.0</td>\n",
       "      <td>7.1</td>\n",
       "      <td>0.6</td>\n",
       "    </tr>\n",
       "    <tr>\n",
       "      <th>max</th>\n",
       "      <td>5.0</td>\n",
       "      <td>10.0</td>\n",
       "      <td>10.0</td>\n",
       "      <td>1.0</td>\n",
       "    </tr>\n",
       "  </tbody>\n",
       "</table>\n",
       "</div>"
      ],
      "text/plain": [
       "       Designation  Resource Allocation  Mental Fatigue Score  Burn Rate\n",
       "count      22750.0              21369.0               20633.0    21626.0\n",
       "mean           2.2                  4.5                   5.7        0.5\n",
       "std            1.1                  2.0                   1.9        0.2\n",
       "min            0.0                  1.0                   0.0        0.0\n",
       "25%            1.0                  3.0                   4.6        0.3\n",
       "50%            2.0                  4.0                   5.9        0.5\n",
       "75%            3.0                  6.0                   7.1        0.6\n",
       "max            5.0                 10.0                  10.0        1.0"
      ]
     },
     "execution_count": 7,
     "metadata": {},
     "output_type": "execute_result"
    }
   ],
   "source": [
    "#statistical measures in the data\n",
    "df.describe()"
   ]
  },
  {
   "cell_type": "code",
   "execution_count": 8,
   "id": "0c60e725",
   "metadata": {
    "execution": {
     "iopub.execute_input": "2024-05-15T15:58:16.146267Z",
     "iopub.status.busy": "2024-05-15T15:58:16.145882Z",
     "iopub.status.idle": "2024-05-15T15:58:16.169818Z",
     "shell.execute_reply": "2024-05-15T15:58:16.168713Z"
    },
    "papermill": {
     "duration": 0.036678,
     "end_time": "2024-05-15T15:58:16.172285",
     "exception": false,
     "start_time": "2024-05-15T15:58:16.135607",
     "status": "completed"
    },
    "tags": []
   },
   "outputs": [
    {
     "data": {
      "text/plain": [
       "Employee ID                0\n",
       "Date of Joining            0\n",
       "Gender                     0\n",
       "Company Type               0\n",
       "WFH Setup Available        0\n",
       "Designation                0\n",
       "Resource Allocation     1381\n",
       "Mental Fatigue Score    2117\n",
       "Burn Rate               1124\n",
       "dtype: int64"
      ]
     },
     "execution_count": 8,
     "metadata": {},
     "output_type": "execute_result"
    }
   ],
   "source": [
    "#number of null values in the data\n",
    "df.isnull().sum()"
   ]
  },
  {
   "cell_type": "code",
   "execution_count": 9,
   "id": "5871e0d5",
   "metadata": {
    "execution": {
     "iopub.execute_input": "2024-05-15T15:58:16.192583Z",
     "iopub.status.busy": "2024-05-15T15:58:16.192168Z",
     "iopub.status.idle": "2024-05-15T15:58:16.217273Z",
     "shell.execute_reply": "2024-05-15T15:58:16.216438Z"
    },
    "papermill": {
     "duration": 0.037847,
     "end_time": "2024-05-15T15:58:16.219457",
     "exception": false,
     "start_time": "2024-05-15T15:58:16.181610",
     "status": "completed"
    },
    "tags": []
   },
   "outputs": [
    {
     "data": {
      "text/plain": [
       "0"
      ]
     },
     "execution_count": 9,
     "metadata": {},
     "output_type": "execute_result"
    }
   ],
   "source": [
    "#number of duplicates\n",
    "df.duplicated().sum()"
   ]
  },
  {
   "cell_type": "code",
   "execution_count": 10,
   "id": "3be4994e",
   "metadata": {
    "execution": {
     "iopub.execute_input": "2024-05-15T15:58:16.240107Z",
     "iopub.status.busy": "2024-05-15T15:58:16.239438Z",
     "iopub.status.idle": "2024-05-15T15:58:16.254637Z",
     "shell.execute_reply": "2024-05-15T15:58:16.253531Z"
    },
    "papermill": {
     "duration": 0.028144,
     "end_time": "2024-05-15T15:58:16.257135",
     "exception": false,
     "start_time": "2024-05-15T15:58:16.228991",
     "status": "completed"
    },
    "tags": []
   },
   "outputs": [
    {
     "name": "stdout",
     "output_type": "stream",
     "text": [
      "['Female' 'Male']\n",
      "['Service' 'Product']\n",
      "['No' 'Yes']\n",
      "[2 1 3 0 4 5]\n"
     ]
    }
   ],
   "source": [
    "#unique values in categorical features\n",
    "categorical_columns = [\"Gender\", \"Company Type\", \"WFH Setup Available\", \"Designation\"]\n",
    "for column in categorical_columns:\n",
    "    print(df[column].unique())"
   ]
  },
  {
   "cell_type": "code",
   "execution_count": 11,
   "id": "d746ae50",
   "metadata": {
    "execution": {
     "iopub.execute_input": "2024-05-15T15:58:16.278921Z",
     "iopub.status.busy": "2024-05-15T15:58:16.277875Z",
     "iopub.status.idle": "2024-05-15T15:58:16.286546Z",
     "shell.execute_reply": "2024-05-15T15:58:16.285328Z"
    },
    "papermill": {
     "duration": 0.022263,
     "end_time": "2024-05-15T15:58:16.288918",
     "exception": false,
     "start_time": "2024-05-15T15:58:16.266655",
     "status": "completed"
    },
    "tags": []
   },
   "outputs": [
    {
     "data": {
      "text/plain": [
       "Employee ID              object\n",
       "Date of Joining          object\n",
       "Gender                   object\n",
       "Company Type             object\n",
       "WFH Setup Available      object\n",
       "Designation               int64\n",
       "Resource Allocation     float64\n",
       "Mental Fatigue Score    float64\n",
       "Burn Rate               float64\n",
       "dtype: object"
      ]
     },
     "execution_count": 11,
     "metadata": {},
     "output_type": "execute_result"
    }
   ],
   "source": [
    "#data types of the data\n",
    "df.dtypes"
   ]
  },
  {
   "cell_type": "code",
   "execution_count": 12,
   "id": "41957a10",
   "metadata": {
    "execution": {
     "iopub.execute_input": "2024-05-15T15:58:16.310159Z",
     "iopub.status.busy": "2024-05-15T15:58:16.309480Z",
     "iopub.status.idle": "2024-05-15T15:58:16.325648Z",
     "shell.execute_reply": "2024-05-15T15:58:16.324402Z"
    },
    "papermill": {
     "duration": 0.029715,
     "end_time": "2024-05-15T15:58:16.328345",
     "exception": false,
     "start_time": "2024-05-15T15:58:16.298630",
     "status": "completed"
    },
    "tags": []
   },
   "outputs": [
    {
     "data": {
      "text/html": [
       "<div>\n",
       "<style scoped>\n",
       "    .dataframe tbody tr th:only-of-type {\n",
       "        vertical-align: middle;\n",
       "    }\n",
       "\n",
       "    .dataframe tbody tr th {\n",
       "        vertical-align: top;\n",
       "    }\n",
       "\n",
       "    .dataframe thead th {\n",
       "        text-align: right;\n",
       "    }\n",
       "</style>\n",
       "<table border=\"1\" class=\"dataframe\">\n",
       "  <thead>\n",
       "    <tr style=\"text-align: right;\">\n",
       "      <th></th>\n",
       "      <th>Resource Allocation</th>\n",
       "      <th>Mental Fatigue Score</th>\n",
       "      <th>Burn Rate</th>\n",
       "    </tr>\n",
       "  </thead>\n",
       "  <tbody>\n",
       "    <tr>\n",
       "      <th>Resource Allocation</th>\n",
       "      <td>1.0</td>\n",
       "      <td>0.8</td>\n",
       "      <td>0.9</td>\n",
       "    </tr>\n",
       "    <tr>\n",
       "      <th>Mental Fatigue Score</th>\n",
       "      <td>0.8</td>\n",
       "      <td>1.0</td>\n",
       "      <td>0.9</td>\n",
       "    </tr>\n",
       "    <tr>\n",
       "      <th>Burn Rate</th>\n",
       "      <td>0.9</td>\n",
       "      <td>0.9</td>\n",
       "      <td>1.0</td>\n",
       "    </tr>\n",
       "  </tbody>\n",
       "</table>\n",
       "</div>"
      ],
      "text/plain": [
       "                      Resource Allocation  Mental Fatigue Score  Burn Rate\n",
       "Resource Allocation                   1.0                   0.8        0.9\n",
       "Mental Fatigue Score                  0.8                   1.0        0.9\n",
       "Burn Rate                             0.9                   0.9        1.0"
      ]
     },
     "execution_count": 12,
     "metadata": {},
     "output_type": "execute_result"
    }
   ],
   "source": [
    "#correlation\n",
    "numerical_columns = [\"Resource Allocation\", \"Mental Fatigue Score\", \"Burn Rate\"]\n",
    "df[numerical_columns].corr()"
   ]
  },
  {
   "cell_type": "code",
   "execution_count": 13,
   "id": "5d4fd58b",
   "metadata": {
    "execution": {
     "iopub.execute_input": "2024-05-15T15:58:16.350476Z",
     "iopub.status.busy": "2024-05-15T15:58:16.349525Z",
     "iopub.status.idle": "2024-05-15T15:58:16.772974Z",
     "shell.execute_reply": "2024-05-15T15:58:16.771994Z"
    },
    "papermill": {
     "duration": 0.437586,
     "end_time": "2024-05-15T15:58:16.775690",
     "exception": false,
     "start_time": "2024-05-15T15:58:16.338104",
     "status": "completed"
    },
    "tags": []
   },
   "outputs": [
    {
     "data": {
      "text/plain": [
       "<Axes: >"
      ]
     },
     "execution_count": 13,
     "metadata": {},
     "output_type": "execute_result"
    },
    {
     "data": {
      "image/png": "[encoded data removed]",
      "text/plain": [
       "<Figure size 500x500 with 2 Axes>"
      ]
     },
     "metadata": {},
     "output_type": "display_data"
    }
   ],
   "source": [
    "#heatmap for better describing of correlation in the data\n",
    "plt.figure(figsize = (5, 5))\n",
    "sns.heatmap(df[numerical_columns].corr(), cbar = True, square = True, annot = True, cmap = \"Blues\")"
   ]
  },
  {
   "cell_type": "code",
   "execution_count": 14,
   "id": "1fbce806",
   "metadata": {
    "execution": {
     "iopub.execute_input": "2024-05-15T15:58:16.799444Z",
     "iopub.status.busy": "2024-05-15T15:58:16.799051Z",
     "iopub.status.idle": "2024-05-15T15:58:17.991874Z",
     "shell.execute_reply": "2024-05-15T15:58:17.990464Z"
    },
    "papermill": {
     "duration": 1.208178,
     "end_time": "2024-05-15T15:58:17.994759",
     "exception": false,
     "start_time": "2024-05-15T15:58:16.786581",
     "status": "completed"
    },
    "tags": []
   },
   "outputs": [
    {
     "data": {
      "text/plain": [
       "array([[<Axes: title={'center': 'Designation'}>,\n",
       "        <Axes: title={'center': 'Resource Allocation'}>],\n",
       "       [<Axes: title={'center': 'Mental Fatigue Score'}>,\n",
       "        <Axes: title={'center': 'Burn Rate'}>]], dtype=object)"
      ]
     },
     "execution_count": 14,
     "metadata": {},
     "output_type": "execute_result"
    },
    {
     "data": {
      "image/png": "[encoded data removed]",
      "text/plain": [
       "<Figure size 1500x800 with 4 Axes>"
      ]
     },
     "metadata": {},
     "output_type": "display_data"
    }
   ],
   "source": [
    "#histograms for all the data\n",
    "df.hist(bins = 15, figsize = (15, 8))"
   ]
  },
  {
   "cell_type": "code",
   "execution_count": 15,
   "id": "302d71be",
   "metadata": {
    "execution": {
     "iopub.execute_input": "2024-05-15T15:58:18.021725Z",
     "iopub.status.busy": "2024-05-15T15:58:18.020794Z",
     "iopub.status.idle": "2024-05-15T15:58:18.734530Z",
     "shell.execute_reply": "2024-05-15T15:58:18.733251Z"
    },
    "papermill": {
     "duration": 0.729338,
     "end_time": "2024-05-15T15:58:18.736960",
     "exception": false,
     "start_time": "2024-05-15T15:58:18.007622",
     "status": "completed"
    },
    "tags": []
   },
   "outputs": [
    {
     "data": {
      "image/png": "[encoded data removed]",
      "text/plain": [
       "<Figure size 1500x500 with 4 Axes>"
      ]
     },
     "metadata": {},
     "output_type": "display_data"
    }
   ],
   "source": [
    "#boxplots to detect the outliers\n",
    "fig, axes = plt.subplots(nrows=1, ncols=4, figsize=(15, 5))\n",
    "for i, column in enumerate(numerical_columns):\n",
    "    sns.boxplot(x=df[column], ax=axes[i])\n",
    "    axes[i].set_title(f'Boxplot for {column}')\n",
    "\n",
    "    \n",
    "plt.tight_layout()\n",
    "plt.show()"
   ]
  },
  {
   "cell_type": "markdown",
   "id": "db684c92",
   "metadata": {
    "papermill": {
     "duration": 0.011902,
     "end_time": "2024-05-15T15:58:18.761360",
     "exception": false,
     "start_time": "2024-05-15T15:58:18.749458",
     "status": "completed"
    },
    "tags": []
   },
   "source": [
    "# Step4: Data Preprocessing"
   ]
  },
  {
   "cell_type": "code",
   "execution_count": 16,
   "id": "5d6e8b3b",
   "metadata": {
    "execution": {
     "iopub.execute_input": "2024-05-15T15:58:18.787680Z",
     "iopub.status.busy": "2024-05-15T15:58:18.787225Z",
     "iopub.status.idle": "2024-05-15T15:58:18.805306Z",
     "shell.execute_reply": "2024-05-15T15:58:18.803931Z"
    },
    "papermill": {
     "duration": 0.034289,
     "end_time": "2024-05-15T15:58:18.807823",
     "exception": false,
     "start_time": "2024-05-15T15:58:18.773534",
     "status": "completed"
    },
    "tags": []
   },
   "outputs": [],
   "source": [
    "#handling outliers function\n",
    "def handle_outliers(data, feature):\n",
    "    Q1 = data[feature].quantile(0.25)\n",
    "    Q3 = data[feature].quantile(0.75)\n",
    "    IQR = Q3 - Q1\n",
    "    lower_limit = Q1 - 1.5 * IQR\n",
    "    upper_limit = Q3 + 1.5 * IQR\n",
    "    \n",
    "    data[feature]=np.where(data[feature] > upper_limit, upper_limit, np.where(data[feature] < lower_limit, lower_limit, data[feature]))\n",
    "    return data[feature]\n",
    "\n",
    "#preprocessing function\n",
    "def preprocessing(data):\n",
    "    data=data.copy()\n",
    "    \n",
    "    #dropping the ID column because it doesn't matter in the regression problem\n",
    "    data.drop(\"Employee ID\", axis = 1, inplace = True)\n",
    "    \n",
    "    #handling missing values\n",
    "    data.dropna(subset = [\"Burn Rate\"], inplace = True)\n",
    "    data[\"Resource Allocation\"].fillna(data[\"Resource Allocation\"].median(), inplace = True)\n",
    "    data[\"Mental Fatigue Score\"].fillna(data[\"Mental Fatigue Score\"].median(), inplace = True)\n",
    "    \n",
    "    #handling the outliers\n",
    "    data[\"Mental Fatigue Score\"] = handle_outliers(data,\"Mental Fatigue Score\")\n",
    "    \n",
    "    #turn the date column to three columns (year, month, day)\n",
    "    data[\"Date of Joining\"] = pd.to_datetime(data[\"Date of Joining\"])\n",
    "    data[\"Join Year\"] = data[\"Date of Joining\"].apply(lambda x : x.year)\n",
    "    data[\"Join Month\"] = data[\"Date of Joining\"].apply(lambda x : x.month)\n",
    "    data[\"Join Day\"] = data[\"Date of Joining\"].apply(lambda x : x.day)\n",
    "    data.drop(\"Date of Joining\", axis = 1, inplace = True)\n",
    "    \n",
    "    #dropping the join year column because it has the same value in all its cells\n",
    "    data.drop(\"Join Year\", axis = 1, inplace = True)\n",
    "    \n",
    "    #encoding categorical features\n",
    "    data[\"Gender\"].replace({\"Female\" : 0, \"Male\" : 1}, inplace = True)\n",
    "    data[\"Company Type\"].replace({\"Service\" : 0, \"Product\" : 1}, inplace = True)\n",
    "    data[\"WFH Setup Available\"].replace({\"No\" : 0, \"Yes\" : 1}, inplace = True)\n",
    "    \n",
    "    #scaling\n",
    "    scaler = StandardScaler()\n",
    "    df[[\"Resource Allocation\", \"Mental Fatigue Score\"]] = scaler.fit_transform(df[[\"Resource Allocation\", \"Mental Fatigue Score\"]])\n",
    "    \n",
    "    #splitting data to train and test\n",
    "    x = data.drop(\"Burn Rate\", axis = 1)\n",
    "    y = data[\"Burn Rate\"]\n",
    "    x_train, x_test, y_train, y_test = train_test_split(x, y, test_size = 0.2, shuffle = True, random_state = 1)\n",
    "    \n",
    "    return x_train, x_test, y_train, y_test"
   ]
  },
  {
   "cell_type": "code",
   "execution_count": 17,
   "id": "1d82722c",
   "metadata": {
    "execution": {
     "iopub.execute_input": "2024-05-15T15:58:18.834376Z",
     "iopub.status.busy": "2024-05-15T15:58:18.833985Z",
     "iopub.status.idle": "2024-05-15T15:58:19.196746Z",
     "shell.execute_reply": "2024-05-15T15:58:19.195856Z"
    },
    "papermill": {
     "duration": 0.379391,
     "end_time": "2024-05-15T15:58:19.199493",
     "exception": false,
     "start_time": "2024-05-15T15:58:18.820102",
     "status": "completed"
    },
    "tags": []
   },
   "outputs": [],
   "source": [
    "X_train, X_test, y_train, y_test = preprocessing(df)"
   ]
  },
  {
   "cell_type": "markdown",
   "id": "b97baed4",
   "metadata": {
    "papermill": {
     "duration": 0.012111,
     "end_time": "2024-05-15T15:58:19.223880",
     "exception": false,
     "start_time": "2024-05-15T15:58:19.211769",
     "status": "completed"
    },
    "tags": []
   },
   "source": [
    "# Step5: Modelling "
   ]
  },
  {
   "cell_type": "code",
   "execution_count": 18,
   "id": "dc2b64ba",
   "metadata": {
    "execution": {
     "iopub.execute_input": "2024-05-15T15:58:19.250748Z",
     "iopub.status.busy": "2024-05-15T15:58:19.249931Z",
     "iopub.status.idle": "2024-05-15T15:58:25.505271Z",
     "shell.execute_reply": "2024-05-15T15:58:25.504336Z"
    },
    "papermill": {
     "duration": 6.271864,
     "end_time": "2024-05-15T15:58:25.508156",
     "exception": false,
     "start_time": "2024-05-15T15:58:19.236292",
     "status": "completed"
    },
    "tags": []
   },
   "outputs": [
    {
     "name": "stdout",
     "output_type": "stream",
     "text": [
      "Linear Regression: MSE = 0.0050, RMSE = 0.0706\n",
      "Decision Tree Regressor: MSE = 0.0074, RMSE = 0.0859\n",
      "Random Forest Regressor: MSE = 0.0041, RMSE = 0.0644\n",
      "Gradient Boosting Regressor: MSE = 0.0039, RMSE = 0.0625\n",
      "K-Neighbors Regressor: MSE = 0.0056, RMSE = 0.0749\n",
      "XGBoost Regressor: MSE = 0.0039, RMSE = 0.0623\n"
     ]
    }
   ],
   "source": [
    "#list of regression models\n",
    "models = [\n",
    "    ('Linear Regression', LinearRegression()),\n",
    "    ('Decision Tree Regressor', DecisionTreeRegressor()),\n",
    "    ('Random Forest Regressor', RandomForestRegressor()),\n",
    "    ('Gradient Boosting Regressor', GradientBoostingRegressor()),\n",
    "    ('K-Neighbors Regressor', KNeighborsRegressor()),\n",
    "    ('XGBoost Regressor', xgb.XGBRegressor(objective='reg:squarederror'))\n",
    "]\n",
    "\n",
    "#evaluate each model\n",
    "for name, model in models:\n",
    "    model.fit(X_train, y_train)\n",
    "    y_pred = model.predict(X_test)\n",
    "    mse = mean_squared_error(y_test, y_pred)\n",
    "    rmse = np.sqrt(mse)\n",
    "    print(f\"{name}: MSE = {mse:.4f}, RMSE = {rmse:.4f}\")"
   ]
  }
 ],
 "metadata": {
  "kaggle": {
   "accelerator": "none",
   "dataSources": [
    {
     "datasetId": 5012778,
     "sourceId": 8420289,
     "sourceType": "datasetVersion"
    }
   ],
   "dockerImageVersionId": 30698,
   "isGpuEnabled": false,
   "isInternetEnabled": true,
   "language": "python",
   "sourceType": "notebook"
  },
  "kernelspec": {
   "display_name": "Python 3",
   "language": "python",
   "name": "python3"
  },
  "language_info": {
   "codemirror_mode": {
    "name": "ipython",
    "version": 3
   },
   "file_extension": ".py",
   "mimetype": "text/x-python",
   "name": "python",
   "nbconvert_exporter": "python",
   "pygments_lexer": "ipython3",
   "version": "3.10.13"
  },
  "papermill": {
   "default_parameters": {},
   "duration": 16.755133,
   "end_time": "2024-05-15T15:58:26.245086",
   "environment_variables": {},
   "exception": null,
   "input_path": "__notebook__.ipynb",
   "output_path": "__notebook__.ipynb",
   "parameters": {},
   "start_time": "2024-05-15T15:58:09.489953",
   "version": "2.5.0"
  }
 },
 "nbformat": 4,
 "nbformat_minor": 5
}
